{
 "cells": [
  {
   "cell_type": "code",
   "execution_count": 2,
   "metadata": {},
   "outputs": [],
   "source": [
    "# importing libraries\n",
    "import bs4\n",
    "from urllib.request import urlopen as uReq\n",
    "from bs4 import BeautifulSoup as soup"
   ]
  },
  {
   "cell_type": "code",
   "execution_count": 68,
   "metadata": {},
   "outputs": [],
   "source": [
    "#website to be scraped\n",
    "listUrls = ['https://www.yelp.ca/biz/ten-foot-henry-calgary',\n",
    "          'https://www.yelp.ca/biz/the-rock-calgary']\n",
    "\n",
    "Name = []\n",
    "Review = []\n",
    "\n",
    "#opening up connection, grabbing the page\n",
    "for url in listUrls:\n",
    "    uClient = uReq(url)\n",
    "    page_html = uClient.read()\n",
    "    uClient.close()\n",
    "    \n",
    "    #parsing html page with bs\n",
    "    page_soup = soup(page_html,\"html.parser\")\n",
    "    \n",
    "    #grabs name of restaurant\n",
    "    nameContainer = page_soup.findAll(\"div\", {\"class\":\"u-space-t1\"})\n",
    "    name = nameContainer[0].h1.string.split(\"\\n\")[1].lstrip()\n",
    "\n",
    "    Name.append(name)\n",
    "    \n",
    "    #grabs review rating\n",
    "    reviewContainer = page_soup.findAll(\"div\", {\"class\":\"biz-rating biz-rating-very-large clearfix\"})\n",
    "    reviewRating = reviewContainer[0].div[\"title\"]\n",
    "\n",
    "    Name.appendreviewRating"
   ]
  },
  {
   "cell_type": "code",
   "execution_count": 69,
   "metadata": {},
   "outputs": [],
   "source": []
  },
  {
   "cell_type": "code",
   "execution_count": null,
   "metadata": {},
   "outputs": [],
   "source": []
  }
 ],
 "metadata": {
  "kernelspec": {
   "display_name": "Python 3",
   "language": "python",
   "name": "python3"
  },
  "language_info": {
   "codemirror_mode": {
    "name": "ipython",
    "version": 3
   },
   "file_extension": ".py",
   "mimetype": "text/x-python",
   "name": "python",
   "nbconvert_exporter": "python",
   "pygments_lexer": "ipython3",
   "version": "3.6.4"
  }
 },
 "nbformat": 4,
 "nbformat_minor": 2
}
