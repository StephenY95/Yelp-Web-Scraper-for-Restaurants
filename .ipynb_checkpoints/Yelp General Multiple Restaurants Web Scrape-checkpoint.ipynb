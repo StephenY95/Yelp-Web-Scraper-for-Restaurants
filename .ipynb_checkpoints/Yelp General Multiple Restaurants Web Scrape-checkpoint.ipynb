{
 "cells": [
  {
   "cell_type": "code",
   "execution_count": 1,
   "metadata": {},
   "outputs": [],
   "source": [
    "# importing libraries\n",
    "import bs4\n",
    "from urllib.request import urlopen as uReq\n",
    "from bs4 import BeautifulSoup as soup"
   ]
  },
  {
   "cell_type": "code",
   "execution_count": 211,
   "metadata": {},
   "outputs": [],
   "source": [
    "#opening up connection, grabbing the page\n",
    "myUrl = 'https://www.yelp.ca/search?find_loc=Calgary,+AB&start=30&cflt=restaurants'\n",
    "\n",
    "uClient = uReq(myUrl)\n",
    "page_html = uClient.read()\n",
    "uClient.close()"
   ]
  },
  {
   "cell_type": "code",
   "execution_count": 236,
   "metadata": {},
   "outputs": [
    {
     "data": {
      "text/plain": [
       "77"
      ]
     },
     "execution_count": 236,
     "metadata": {},
     "output_type": "execute_result"
    }
   ],
   "source": [
    "#copying data into a csv file\n",
    "filename = \"yelp_data.csv\"\n",
    "f = open(filename, \"w\")\n",
    "headers = \"ID Number, Name, Rating, Number of Reviews, Location, Price Range, Food Type\\n\"\n",
    "f.write(headers)"
   ]
  },
  {
   "cell_type": "code",
   "execution_count": 230,
   "metadata": {},
   "outputs": [],
   "source": [
    "#Parameters for restaurant\n",
    "idNum = []\n",
    "name = []\n",
    "rating = []\n",
    "numReviews = []\n",
    "location = []\n",
    "priceRange = []\n",
    "foodType = []"
   ]
  },
  {
   "cell_type": "code",
   "execution_count": 231,
   "metadata": {},
   "outputs": [],
   "source": [
    "#parsing html page with bs\n",
    "page_soup = soup(page_html,\"html.parser\")"
   ]
  },
  {
   "cell_type": "code",
   "execution_count": 232,
   "metadata": {},
   "outputs": [
    {
     "data": {
      "text/plain": [
       "30"
      ]
     },
     "execution_count": 232,
     "metadata": {},
     "output_type": "execute_result"
    }
   ],
   "source": [
    "#finding the number of containers containing restaurants\n",
    "containers = page_soup.findAll(\"li\",{\"class\":\"regular-search-result\"})\n",
    "len(containers)"
   ]
  },
  {
   "cell_type": "code",
   "execution_count": 66,
   "metadata": {
    "collapsed": true
   },
   "outputs": [
    {
     "data": {
      "text/plain": [
       "<li class=\"regular-search-result\" data-unique-request-id=\"b8f932aa898c9fae\">\n",
       "<div class=\"search-result natural-search-result scrollable-photos-search-result\" data-biz-id=\"BJ3AyMhTaORAu_e_J2KNEQ\" data-key=\"33\">\n",
       "<div class=\"biz-listing-large\">\n",
       "<div class=\"media-block media-block--18\">\n",
       "<div class=\"media-avatar\">\n",
       "<div class=\"scrollable-photos\">\n",
       "<div class=\"photo-box pb-ls\">\n",
       "<div class=\"scrollable-photos_inner\">\n",
       "<a class=\"js-analytics-click scrollable-photos_box scrollable-photos_box--1\" data-analytics-label=\"biz-photo\" href=\"/biz/river-caf%C3%A9-calgary-2\">\n",
       "<img alt=\"Photo of River Café\" class=\"scrollable-photos_img\" height=\"210\" src=\"https://s3-media2.fl.yelpcdn.com/bphoto/roj8yp6j7LKssrHRDQQqxw/ls.jpg\" srcset=\"https://s3-media2.fl.yelpcdn.com/bphoto/roj8yp6j7LKssrHRDQQqxw/258s.jpg 1.03x,https://s3-media2.fl.yelpcdn.com/bphoto/roj8yp6j7LKssrHRDQQqxw/348s.jpg 1.39x,https://s3-media2.fl.yelpcdn.com/bphoto/roj8yp6j7LKssrHRDQQqxw/300s.jpg 1.20x\" width=\"210\"/>\n",
       "</a>\n",
       "<a class=\"js-analytics-click scrollable-photos_box scrollable-photos_box--2\" data-analytics-label=\"biz-photo\" href=\"/biz/river-caf%C3%A9-calgary-2\">\n",
       "<img alt=\"Photo of River Café\" class=\"scrollable-photos_img\" height=\"210\" src=\"data:image/gif;base64,R0lGODlhAQABAIAAAAAAAP///yH5BAEAAAAALAAAAAABAAEAAAIBRAA7\" width=\"210\"/>\n",
       "</a>\n",
       "<a class=\"js-analytics-click scrollable-photos_box scrollable-photos_box--3\" data-analytics-label=\"biz-photo\" href=\"/biz/river-caf%C3%A9-calgary-2\">\n",
       "<img alt=\"Photo of River Café\" class=\"scrollable-photos_img\" height=\"210\" src=\"data:image/gif;base64,R0lGODlhAQABAIAAAAAAAP///yH5BAEAAAAALAAAAAABAAEAAAIBRAA7\" width=\"210\"/>\n",
       "</a>\n",
       "<a class=\"js-analytics-click scrollable-photos_box scrollable-photos_all-photos\" data-analytics-label=\"biz-photo\" href=\"/biz_photos/BJ3AyMhTaORAu_e_J2KNEQ\">\n",
       "<div class=\"scrollable-photos_all-photos-tile\"><img alt=\"Photo of River Café\" class=\"scrollable-photos_img\" height=\"105\" src=\"data:image/gif;base64,R0lGODlhAQABAIAAAAAAAP///yH5BAEAAAAALAAAAAABAAEAAAIBRAA7\" width=\"105\"/></div>\n",
       "<div class=\"scrollable-photos_all-photos-tile\"><img alt=\"Photo of River Café\" class=\"scrollable-photos_img\" height=\"105\" src=\"data:image/gif;base64,R0lGODlhAQABAIAAAAAAAP///yH5BAEAAAAALAAAAAABAAEAAAIBRAA7\" width=\"105\"/></div>\n",
       "<div class=\"scrollable-photos_all-photos-tile\"><img alt=\"Photo of River Café\" class=\"scrollable-photos_img\" height=\"105\" src=\"data:image/gif;base64,R0lGODlhAQABAIAAAAAAAP///yH5BAEAAAAALAAAAAABAAEAAAIBRAA7\" width=\"105\"/></div>\n",
       "<div class=\"scrollable-photos_all-photos-tile\"><img alt=\"Photo of River Café\" class=\"scrollable-photos_img\" height=\"105\" src=\"data:image/gif;base64,R0lGODlhAQABAIAAAAAAAP///yH5BAEAAAAALAAAAAABAAEAAAIBRAA7\" width=\"105\"/></div>\n",
       "<div class=\"scrollable-photos_all-photos-overlay\">\n",
       "<span class=\"scrollable-photos_all-photos-overlay-content\">\n",
       "<span aria-hidden=\"true\" class=\"icon icon--24-grid icon--size-24 icon--white icon--fallback-inverted\" style=\"width: 24px; height: 24px;\">\n",
       "<svg class=\"icon_svg\" role=\"img\">\n",
       "<use xlink:href=\"#24x24_grid\"></use>\n",
       "</svg>\n",
       "</span>\n",
       "<br/>\n",
       "<span class=\"scrollable-photos_all-photos-overlay-caption\"></span>\n",
       "</span>\n",
       "</div>\n",
       "</a>\n",
       "</div>\n",
       "</div>\n",
       "<a class=\"nav nav-left disabled\">\n",
       "<span aria-hidden=\"true\" class=\"icon icon--24-chevron-left icon--size-24 icon--white icon--fallback-inverted\" style=\"width: 24px; height: 24px;\">\n",
       "<svg class=\"icon_svg\" role=\"img\">\n",
       "<use xlink:href=\"#24x24_chevron_left\"></use>\n",
       "</svg>\n",
       "</span>\n",
       "</a>\n",
       "<div class=\"coachmark-tooltip js-scrollable-photos-search-coachmark coachmark-tooltip--bottom\">\n",
       "<div class=\"js-coachmark-tooltip coachmark-tooltip-content\">\n",
       "<span aria-hidden=\"true\" class=\"icon icon--14-close icon--size-14 icon--inverse icon--fallback-inverted coachmark-close js-coachmark-close\" style=\"width: 14px; height: 14px;\">\n",
       "<svg class=\"icon_svg\" role=\"img\">\n",
       "<use xlink:href=\"#14x14_close\"></use>\n",
       "</svg>\n",
       "</span>\n",
       "<small>Click on the arrow to explore business photos.</small>\n",
       "</div>\n",
       "<div class=\"js-coachmark-target\">\n",
       "<a class=\"nav nav-right disabled\">\n",
       "<span aria-hidden=\"true\" class=\"icon icon--24-chevron-right icon--size-24 icon--white icon--fallback-inverted\" style=\"width: 24px; height: 24px;\">\n",
       "<svg class=\"icon_svg\" role=\"img\">\n",
       "<use xlink:href=\"#24x24_chevron_right\"></use>\n",
       "</svg>\n",
       "</span>\n",
       "</a>\n",
       "</div>\n",
       "</div>\n",
       "</div>\n",
       "</div>\n",
       "<div class=\"media-story\">\n",
       "<div class=\"biz-attributes\">\n",
       "<div class=\"main-attributes\">\n",
       "<h3 class=\"search-result-title\">\n",
       "<span class=\"indexed-biz-name\">33. \n",
       "\n",
       "\n",
       "        <a class=\"biz-name js-analytics-click\" data-analytics-label=\"biz-name\" data-hovercard-id=\"ei3AVoEwFYvKg-C94bqP5w\" href=\"/biz/river-caf%C3%A9-calgary-2\"><span>River Café</span></a>\n",
       "</span>\n",
       "</h3>\n",
       "<div class=\"biz-rating biz-rating-large clearfix\">\n",
       "<div class=\"i-stars i-stars--regular-4 rating-large\" title=\"4.0 star rating\">\n",
       "<img alt=\"4.0 star rating\" class=\"offscreen\" height=\"303\" src=\"https://s3-media2.fl.yelpcdn.com/assets/srv0/yelp_design_web/9b34e39ccbeb/assets/img/stars/stars.png\" width=\"84\"/>\n",
       "</div>\n",
       "<span class=\"review-count rating-qualifier\">\n",
       "            145 reviews\n",
       "    </span>\n",
       "</div>\n",
       "<div class=\"price-category\">\n",
       "<span class=\"bullet-after\">\n",
       "<span class=\"business-attribute price-range\">$$$</span>\n",
       "</span>\n",
       "<span class=\"category-str-list\">\n",
       "<a href=\"/search?cflt=newcanadian&amp;find_loc=Calgary%2C+AB\">Canadian (New)</a>,\n",
       "                    <a href=\"/search?cflt=wine_bars&amp;find_loc=Calgary%2C+AB\">Wine Bars</a>\n",
       "</span>\n",
       "</div>\n",
       "<ul class=\"search-result_tags\">\n",
       "</ul>\n",
       "</div>\n",
       "<div class=\"secondary-attributes\">\n",
       "<span class=\"offscreen\">Phone number</span>\n",
       "<span class=\"biz-phone\">\n",
       "            (403) 261-7670\n",
       "        </span>\n",
       "<address>\n",
       "            25 Prince's Island Park\n",
       "        </address>\n",
       "<span class=\"biz-city\">Calgary, AB</span>\n",
       "</div>\n",
       "</div>\n",
       "<div class=\"biz-extra-info\">\n",
       "<div class=\"snippet-block\">\n",
       "<p class=\"snippet\">\n",
       "                    “This restaurant is situated in a really nice area overlooking the river in Calgary. The scenery is natural with trees and grass and has a quiet calm.  The…”\n",
       "                        <a class=\"nowrap\" href=\"/biz/river-caf%C3%A9-calgary-2?hrid=qYvFJuAX9KyyMZo0wYwTxQ\">read more</a>\n",
       "</p>\n",
       "</div>\n",
       "</div>\n",
       "</div>\n",
       "</div>\n",
       "</div>\n",
       "</div>\n",
       "</li>"
      ]
     },
     "execution_count": 66,
     "metadata": {},
     "output_type": "execute_result"
    }
   ],
   "source": [
    "containers[2]"
   ]
  },
  {
   "cell_type": "code",
   "execution_count": 238,
   "metadata": {},
   "outputs": [
    {
     "ename": "AttributeError",
     "evalue": "'str' object has no attribute 'span'",
     "output_type": "error",
     "traceback": [
      "\u001b[1;31m---------------------------------------------------------------------------\u001b[0m",
      "\u001b[1;31mAttributeError\u001b[0m                            Traceback (most recent call last)",
      "\u001b[1;32m<ipython-input-238-1c95ed986c16>\u001b[0m in \u001b[0;36m<module>\u001b[1;34m()\u001b[0m\n\u001b[0;32m      8\u001b[0m     \u001b[1;31m#scraping the name of the restaurant\u001b[0m\u001b[1;33m\u001b[0m\u001b[1;33m\u001b[0m\u001b[0m\n\u001b[0;32m      9\u001b[0m     \u001b[0mscrapedName\u001b[0m \u001b[1;33m=\u001b[0m \u001b[1;33m(\u001b[0m\u001b[0mcontainers\u001b[0m\u001b[1;33m[\u001b[0m\u001b[0mcontainer\u001b[0m\u001b[1;33m]\u001b[0m\u001b[1;33m.\u001b[0m\u001b[0mfindAll\u001b[0m\u001b[1;33m(\u001b[0m\u001b[1;34m\"a\"\u001b[0m\u001b[1;33m,\u001b[0m \u001b[1;33m{\u001b[0m\u001b[1;34m\"class\"\u001b[0m\u001b[1;33m:\u001b[0m\u001b[1;34m\"biz-name js-analytics-click\"\u001b[0m\u001b[1;33m}\u001b[0m\u001b[1;33m)\u001b[0m\u001b[1;33m)\u001b[0m\u001b[1;33m[\u001b[0m\u001b[1;36m0\u001b[0m\u001b[1;33m]\u001b[0m\u001b[1;33m.\u001b[0m\u001b[0mspan\u001b[0m\u001b[1;33m.\u001b[0m\u001b[0mstring\u001b[0m\u001b[1;33m\u001b[0m\u001b[0m\n\u001b[1;32m---> 10\u001b[1;33m     \u001b[0mname\u001b[0m\u001b[1;33m.\u001b[0m\u001b[0mappend\u001b[0m\u001b[1;33m(\u001b[0m\u001b[1;33m(\u001b[0m\u001b[0mscrapedName\u001b[0m\u001b[1;33m[\u001b[0m\u001b[1;36m0\u001b[0m\u001b[1;33m]\u001b[0m\u001b[1;33m.\u001b[0m\u001b[0mspan\u001b[0m\u001b[1;33m.\u001b[0m\u001b[0mstring\u001b[0m\u001b[1;33m)\u001b[0m\u001b[1;33m)\u001b[0m\u001b[1;33m\u001b[0m\u001b[0m\n\u001b[0m\u001b[0;32m     11\u001b[0m     \u001b[0mnameHeader\u001b[0m \u001b[1;33m=\u001b[0m \u001b[0mscrapedName\u001b[0m\u001b[1;33m[\u001b[0m\u001b[1;36m0\u001b[0m\u001b[1;33m]\u001b[0m\u001b[1;33m.\u001b[0m\u001b[0mspan\u001b[0m\u001b[1;33m.\u001b[0m\u001b[0mstring\u001b[0m\u001b[1;33m\u001b[0m\u001b[0m\n\u001b[0;32m     12\u001b[0m \u001b[1;33m\u001b[0m\u001b[0m\n",
      "\u001b[1;31mAttributeError\u001b[0m: 'str' object has no attribute 'span'"
     ]
    }
   ],
   "source": [
    "for container in range(len(containers)):\n",
    "    \n",
    "    #scraping the ID Number of the restaurant\n",
    "    scrapedIdNum = containers[container].div['data-key']\n",
    "    idNum.append((scrapedIdNum))\n",
    "    idNumHeader = scrapedIdNum\n",
    "    \n",
    "    #scraping the name of the restaurant\n",
    "    scrapedName = (containers[container].findAll(\"a\", {\"class\":\"biz-name js-analytics-click\"}))[0].span.string\n",
    "    name.append((scrapedName[0].span.string))\n",
    "    nameHeader = scrapedName[0].span.string\n",
    "    \n",
    "    #scraping the rating of the restaurant\n",
    "    scrapedRating = containers[container].findAll(\"div\", {\"class\":\"biz-rating biz-rating-large clearfix\"})\n",
    "    rating.append((scrapedRating[0].div[\"title\"]))\n",
    "    ratingHeader = scrapedRating[0].div[\"title\"]\n",
    "    \n",
    "    #scraping the number of reviews of the restaurant\n",
    "    scrapedNumReviews = containers[container].findAll(\"div\", {\"class\":\"biz-rating biz-rating-large clearfix\"})\n",
    "    numReviews.append((scrapedNumReviews[0].span.string.split(\"\\n\")[1].lstrip()))\n",
    "    numReviewsHeader = scrapedNumReviews[0].span.string.split(\"\\n\")[1].lstrip()\n",
    "   \n",
    "    #scraping the region of location of the restaurant\n",
    "    try:\n",
    "        scrapedLocation = containers[container].findAll(\"div\", {\"class\":\"secondary-attributes\"})\n",
    "        location.append((scrapedLocation[0].address.string.split(\"\\n\")[1].lstrip()))\n",
    "        locationHeader = scrapedLocation[0].address.string.split(\"\\n\")[1].lstrip()\n",
    "    except:\n",
    "        location.append(\"No Address\")\n",
    "        locationHeader = \"No Address\"\n",
    "    \n",
    "    #scraping the price of the restaurant\n",
    "    try:\n",
    "        scrapedPrice = containers[container].findAll(\"div\", {\"class\":\"price-category\"})\n",
    "        priceRange.append((scrapedPrice[0].span.span.string))\n",
    "        priceRangeHeader = scrapedPrice[0].span.span.string\n",
    "    except:\n",
    "        priceRange.append(\"No Price Range\")\n",
    "        priceRangeHeader = \"No Price Range\"\n",
    "    \n",
    "    #scraping the foodtype of the restaurant\n",
    "    scrapedFoodType = containers[container].findAll(\"span\", {\"class\":\"category-str-list\"})\n",
    "    dummyCategory = []\n",
    "    for element in scrapedFoodType[0].find_all(\"a\"): \n",
    "        dummyCategory.append(element.string)\n",
    "    ','.join(dummyCategory)\n",
    "    foodType.append(dummyCategory)\n",
    "    foodTypeHeader = dummyCategory\n",
    "    \n",
    "    f.write(idNumHeader+\n",
    "            nameHeader+\n",
    "            ratingHeader+\n",
    "            numReviewsHeader+\n",
    "            locationHeader+\n",
    "            priceRangeHeader+\n",
    "           \"\\n\")\n",
    "\n",
    "idNum, name, rating, numReviews, location, priceRange, foodType"
   ]
  },
  {
   "cell_type": "code",
   "execution_count": 225,
   "metadata": {},
   "outputs": [
    {
     "data": {
      "text/plain": [
       "(['31', '31', '32', '33', '34', '35', '36', '37', '38', '39', '40'],\n",
       " ['SaVeg',\n",
       "  'SaVeg',\n",
       "  'Blink Restaurant & Bar',\n",
       "  'Menyatai Japanese Noodles',\n",
       "  'OEB Breakfast Co.',\n",
       "  'River Café',\n",
       "  'The Highwood',\n",
       "  'Olive Chicken',\n",
       "  'King’s - On The Hill',\n",
       "  'Suzette Brittany Bistro',\n",
       "  'Charpop'],\n",
       " ['4.5 star rating',\n",
       "  '4.5 star rating',\n",
       "  '4.0 star rating',\n",
       "  '4.0 star rating',\n",
       "  '4.5 star rating',\n",
       "  '4.0 star rating',\n",
       "  '4.0 star rating',\n",
       "  '4.5 star rating',\n",
       "  '4.5 star rating',\n",
       "  '4.5 star rating',\n",
       "  '5.0 star rating'],\n",
       " ['11 reviews',\n",
       "  '11 reviews',\n",
       "  '128 reviews',\n",
       "  '95 reviews',\n",
       "  '135 reviews',\n",
       "  '145 reviews',\n",
       "  '18 reviews',\n",
       "  '52 reviews',\n",
       "  '41 reviews',\n",
       "  '73 reviews',\n",
       "  '3 reviews'],\n",
       " ['637 11 Ave SW',\n",
       "  '637 11 Ave SW',\n",
       "  '111 8th Avenue SW',\n",
       "  '24 12th Street NW',\n",
       "  '222 5 Avenue SW',\n",
       "  \"25 Prince's Island Park\",\n",
       "  '1301 16th Avenue NW',\n",
       "  '1324 10 Avenue SW',\n",
       "  '808 Edmonton Trail NE',\n",
       "  '2210 4th Street SW'],\n",
       " ['0', '$$$', '$$', '$$', '$$$', '$$', '$', '$$', '$$'],\n",
       " [['Vegan', 'Korean', 'Vegetarian'],\n",
       "  ['Canadian (New)', 'French', 'Wine Bars'],\n",
       "  ['Japanese', 'Noodles'],\n",
       "  ['Breakfast & Brunch'],\n",
       "  ['Canadian (New)', 'Wine Bars'],\n",
       "  ['Buffets', 'American (Traditional)'],\n",
       "  ['Korean', 'Chicken Wings'],\n",
       "  ['Chinese'],\n",
       "  ['French', 'Creperies', 'Bistros']])"
      ]
     },
     "execution_count": 225,
     "metadata": {},
     "output_type": "execute_result"
    }
   ],
   "source": [
    "idNum, name, rating, numReviews, location, priceRange, foodType"
   ]
  },
  {
   "cell_type": "code",
   "execution_count": null,
   "metadata": {},
   "outputs": [],
   "source": []
  }
 ],
 "metadata": {
  "kernelspec": {
   "display_name": "Python 3",
   "language": "python",
   "name": "python3"
  },
  "language_info": {
   "codemirror_mode": {
    "name": "ipython",
    "version": 3
   },
   "file_extension": ".py",
   "mimetype": "text/x-python",
   "name": "python",
   "nbconvert_exporter": "python",
   "pygments_lexer": "ipython3",
   "version": "3.6.4"
  }
 },
 "nbformat": 4,
 "nbformat_minor": 2
}
