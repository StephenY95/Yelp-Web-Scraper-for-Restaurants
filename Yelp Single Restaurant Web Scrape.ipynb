{
 "cells": [
  {
   "cell_type": "code",
   "execution_count": 1,
   "metadata": {},
   "outputs": [],
   "source": [
    "# importing libraries\n",
    "import bs4\n",
    "from urllib.request import urlopen as uReq\n",
    "from bs4 import BeautifulSoup as soup"
   ]
  },
  {
   "cell_type": "code",
   "execution_count": 5,
   "metadata": {},
   "outputs": [],
   "source": [
    "#opening up connection, grabbing the page\n",
    "myUrl = 'https://www.yelp.ca/biz/ten-foot-henry-calgary'\n",
    "\n",
    "uClient = uReq(myUrl)\n",
    "page_html = uClient.read()\n",
    "uClient.close()"
   ]
  },
  {
   "cell_type": "code",
   "execution_count": 6,
   "metadata": {},
   "outputs": [],
   "source": [
    "#parsing html page with bs\n",
    "page_soup = soup(page_html,\"html.parser\")"
   ]
  },
  {
   "cell_type": "code",
   "execution_count": 7,
   "metadata": {},
   "outputs": [
    {
     "data": {
      "text/plain": [
       "'Ten Foot Henry'"
      ]
     },
     "execution_count": 7,
     "metadata": {},
     "output_type": "execute_result"
    }
   ],
   "source": [
    "#grabs name of restaurant\n",
    "nameContainer = page_soup.findAll(\"div\", {\"class\":\"u-space-t1\"})\n",
    "name = nameContainer[0].h1.string.split(\"\\n\")[1].lstrip()\n",
    "\n",
    "name"
   ]
  },
  {
   "cell_type": "code",
   "execution_count": 9,
   "metadata": {},
   "outputs": [
    {
     "data": {
      "text/plain": [
       "'4.5 star rating'"
      ]
     },
     "execution_count": 9,
     "metadata": {},
     "output_type": "execute_result"
    }
   ],
   "source": [
    "#grabs review rating\n",
    "reviewContainer = page_soup.findAll(\"div\", {\"class\":\"biz-rating biz-rating-very-large clearfix\"})\n",
    "reviewRating = reviewContainer[0].div[\"title\"]\n",
    "\n",
    "reviewRating"
   ]
  },
  {
   "cell_type": "code",
   "execution_count": 21,
   "metadata": {},
   "outputs": [
    {
     "data": {
      "text/plain": [
       "'253 reviews'"
      ]
     },
     "execution_count": 21,
     "metadata": {},
     "output_type": "execute_result"
    }
   ],
   "source": [
    "#grabs number of reviews\n",
    "numReviewsContainer = page_soup.findAll(\"span\", {\"class\":\"review-count rating-qualifier\"})\n",
    "numReviews = numReviewsContainer[0].string.split(\"\\n\")[1].lstrip()\n",
    "\n",
    "numReviews"
   ]
  },
  {
   "cell_type": "code",
   "execution_count": 25,
   "metadata": {
    "scrolled": true
   },
   "outputs": [
    {
     "data": {
      "text/plain": [
       "[<dt class=\"attribute-key\">Today</dt>,\n",
       " <dt class=\"attribute-key\">Price range</dt>,\n",
       " <dt class=\"attribute-key\">\n",
       "                             Liked by Vegans\n",
       "                         </dt>,\n",
       " <dt class=\"attribute-key\">\n",
       "                             Liked by Vegetarians\n",
       "                         </dt>,\n",
       " <dt class=\"attribute-key\">\n",
       "                                 Takes Reservations\n",
       "                             </dt>,\n",
       " <dt class=\"attribute-key\">\n",
       "                                 Delivery\n",
       "                             </dt>,\n",
       " <dt class=\"attribute-key\">\n",
       "                                 Take Away\n",
       "                             </dt>,\n",
       " <dt class=\"attribute-key\">\n",
       "                                 Accepts Apple Pay\n",
       "                             </dt>,\n",
       " <dt class=\"attribute-key\">\n",
       "                                 Accepted Cards\n",
       "                             </dt>,\n",
       " <dt class=\"attribute-key\">\n",
       "                                 Good For\n",
       "                             </dt>,\n",
       " <dt class=\"attribute-key\">\n",
       "                                 Parking\n",
       "                             </dt>,\n",
       " <dt class=\"attribute-key\">\n",
       "                                 Bike Parking\n",
       "                             </dt>,\n",
       " <dt class=\"attribute-key\">\n",
       "                                 Good for Kids\n",
       "                             </dt>,\n",
       " <dt class=\"attribute-key\">\n",
       "                                 Good for Groups\n",
       "                             </dt>,\n",
       " <dt class=\"attribute-key\">\n",
       "                                 Attire\n",
       "                             </dt>,\n",
       " <dt class=\"attribute-key\">\n",
       "                                 Ambience\n",
       "                             </dt>,\n",
       " <dt class=\"attribute-key\">\n",
       "                                 Noise Level\n",
       "                             </dt>,\n",
       " <dt class=\"attribute-key\">\n",
       "                                 Alcohol\n",
       "                             </dt>,\n",
       " <dt class=\"attribute-key\">\n",
       "                                 Outdoor Seating\n",
       "                             </dt>,\n",
       " <dt class=\"attribute-key\">\n",
       "                                 Wi-Fi\n",
       "                             </dt>,\n",
       " <dt class=\"attribute-key\">\n",
       "                                 Has TV\n",
       "                             </dt>,\n",
       " <dt class=\"attribute-key\">\n",
       "                                 Waiter Service\n",
       "                             </dt>,\n",
       " <dt class=\"attribute-key\">\n",
       "                                 Caters\n",
       "                             </dt>]"
      ]
     },
     "execution_count": 25,
     "metadata": {},
     "output_type": "execute_result"
    }
   ],
   "source": [
    "#grabs price range\n",
    "priceRangeContainer = page_soup.findAll(\"dt\", {\"class\":\"attribute-key\"})\n",
    "priceRange = priceRangeContainer\n",
    "\n",
    "priceRange"
   ]
  },
  {
   "cell_type": "code",
   "execution_count": null,
   "metadata": {},
   "outputs": [],
   "source": []
  }
 ],
 "metadata": {
  "kernelspec": {
   "display_name": "Python 3",
   "language": "python",
   "name": "python3"
  },
  "language_info": {
   "codemirror_mode": {
    "name": "ipython",
    "version": 3
   },
   "file_extension": ".py",
   "mimetype": "text/x-python",
   "name": "python",
   "nbconvert_exporter": "python",
   "pygments_lexer": "ipython3",
   "version": "3.6.4"
  }
 },
 "nbformat": 4,
 "nbformat_minor": 2
}
